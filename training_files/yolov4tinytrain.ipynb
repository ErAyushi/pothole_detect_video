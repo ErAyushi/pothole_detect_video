{
  "cells": [
    {
      "cell_type": "code",
      "execution_count": null,
      "metadata": {
        "colab": {
          "base_uri": "https://localhost:8080/"
        },
        "id": "5hvoW1bB4Ggg",
        "outputId": "458ee241-3530-4b11-a675-048c875d3b97"
      },
      "outputs": [
        {
          "ename": "",
          "evalue": "",
          "output_type": "error",
          "traceback": [
            "\u001b[1;31mFailed to start the Kernel. \n",
            "\u001b[1;31mImportError: cannot import name 'has_suggestion' from 'prompt_toolkit.filters' (/home/ayushisoni/.local/lib/python3.10/site-packages/prompt_toolkit/filters/__init__.py). \n",
            "\u001b[1;31mView Jupyter <a href='command:jupyter.viewOutput'>log</a> for further details."
          ]
        }
      ],
      "source": [
        "#getting yolo darknet repo\n",
        "!git clone https://github.com/AlexeyAB/darknet"
      ]
    },
    {
      "cell_type": "code",
      "execution_count": null,
      "metadata": {
        "colab": {
          "base_uri": "https://localhost:8080/"
        },
        "id": "KzQWmvIhAeX1",
        "outputId": "66db4a78-f9aa-45d2-ce23-dd2af9b14ff0"
      },
      "outputs": [
        {
          "ename": "",
          "evalue": "",
          "output_type": "error",
          "traceback": [
            "\u001b[1;31mFailed to start the Kernel. \n",
            "\u001b[1;31mImportError: cannot import name 'has_suggestion' from 'prompt_toolkit.filters' (/home/ayushisoni/.local/lib/python3.10/site-packages/prompt_toolkit/filters/__init__.py). \n",
            "\u001b[1;31mView Jupyter <a href='command:jupyter.viewOutput'>log</a> for further details."
          ]
        }
      ],
      "source": [
        "#mounting drive\n",
        "%cd ..\n",
        "from google.colab import drive\n",
        "drive.mount('/content/gdrive')"
      ]
    },
    {
      "cell_type": "code",
      "execution_count": null,
      "metadata": {
        "id": "8Vug4ILkF4HZ"
      },
      "outputs": [
        {
          "ename": "",
          "evalue": "",
          "output_type": "error",
          "traceback": [
            "\u001b[1;31mFailed to start the Kernel. \n",
            "\u001b[1;31mImportError: cannot import name 'has_suggestion' from 'prompt_toolkit.filters' (/home/ayushisoni/.local/lib/python3.10/site-packages/prompt_toolkit/filters/__init__.py). \n",
            "\u001b[1;31mView Jupyter <a href='command:jupyter.viewOutput'>log</a> for further details."
          ]
        }
      ],
      "source": [
        "!ln -s /content/gdrive/My\\ Drive/ /mydrive\n"
      ]
    },
    {
      "cell_type": "code",
      "execution_count": null,
      "metadata": {
        "id": "i9VHS9lvGjWB"
      },
      "outputs": [
        {
          "ename": "",
          "evalue": "",
          "output_type": "error",
          "traceback": [
            "\u001b[1;31mFailed to start the Kernel. \n",
            "\u001b[1;31mImportError: cannot import name 'has_suggestion' from 'prompt_toolkit.filters' (/home/ayushisoni/.local/lib/python3.10/site-packages/prompt_toolkit/filters/__init__.py). \n",
            "\u001b[1;31mView Jupyter <a href='command:jupyter.viewOutput'>log</a> for further details."
          ]
        }
      ],
      "source": [
        "#go to darknet folder\n",
        "!cd /content/darknet\n"
      ]
    },
    {
      "cell_type": "code",
      "execution_count": null,
      "metadata": {
        "id": "x9OjNDAAG_tK"
      },
      "outputs": [
        {
          "ename": "",
          "evalue": "",
          "output_type": "error",
          "traceback": [
            "\u001b[1;31mFailed to start the Kernel. \n",
            "\u001b[1;31mImportError: cannot import name 'has_suggestion' from 'prompt_toolkit.filters' (/home/ayushisoni/.local/lib/python3.10/site-packages/prompt_toolkit/filters/__init__.py). \n",
            "\u001b[1;31mView Jupyter <a href='command:jupyter.viewOutput'>log</a> for further details."
          ]
        }
      ],
      "source": [
        "#parameter settings from compiling darknet\n",
        "!sed -i 's/OPENCV=0/OPENCV=1/' /content/darknet/Makefile\n",
        "!sed -i 's/GPU=0/GPU=1/' /content/darknet/Makefile\n",
        "!sed -i 's/CUDNN=0/CUDNN=1/' /content/darknet/Makefile\n",
        "!sed -i 's/CUDNN_HALF=0/CUDNN_HALF=1/' /content/darknet/Makefile\n",
        "!sed -i 's/LIBSO=0/LIBSO=1/' /content/darknet/Makefile"
      ]
    },
    {
      "cell_type": "code",
      "execution_count": null,
      "metadata": {
        "colab": {
          "base_uri": "https://localhost:8080/"
        },
        "id": "5LuK0oebHBab",
        "outputId": "40be89ac-43b2-4bc9-c077-1b8526f7e675"
      },
      "outputs": [
        {
          "ename": "",
          "evalue": "",
          "output_type": "error",
          "traceback": [
            "\u001b[1;31mFailed to start the Kernel. \n",
            "\u001b[1;31mImportError: cannot import name 'has_suggestion' from 'prompt_toolkit.filters' (/home/ayushisoni/.local/lib/python3.10/site-packages/prompt_toolkit/filters/__init__.py). \n",
            "\u001b[1;31mView Jupyter <a href='command:jupyter.viewOutput'>log</a> for further details."
          ]
        }
      ],
      "source": [
        "#make command for compiling darknet\n",
        "!make\n"
      ]
    },
    {
      "cell_type": "code",
      "execution_count": null,
      "metadata": {
        "colab": {
          "base_uri": "https://localhost:8080/"
        },
        "id": "DNoAIf5yHEFc",
        "outputId": "3aceed3c-91cb-4bdd-e4c6-e1e05566be2e"
      },
      "outputs": [
        {
          "ename": "",
          "evalue": "",
          "output_type": "error",
          "traceback": [
            "\u001b[1;31mFailed to start the Kernel. \n",
            "\u001b[1;31mImportError: cannot import name 'has_suggestion' from 'prompt_toolkit.filters' (/home/ayushisoni/.local/lib/python3.10/site-packages/prompt_toolkit/filters/__init__.py). \n",
            "\u001b[1;31mView Jupyter <a href='command:jupyter.viewOutput'>log</a> for further details."
          ]
        }
      ],
      "source": [
        "#copying dataset from drive\n",
        "!cp/content/gdrive/MyDrive/obj.zip ../"
      ]
    },
    {
      "cell_type": "code",
      "execution_count": null,
      "metadata": {
        "colab": {
          "base_uri": "https://localhost:8080/"
        },
        "id": "RSZCZIA7YU-q",
        "outputId": "b497a2b1-7374-4acb-9531-7f526aa58801"
      },
      "outputs": [
        {
          "ename": "",
          "evalue": "",
          "output_type": "error",
          "traceback": [
            "\u001b[1;31mFailed to start the Kernel. \n",
            "\u001b[1;31mImportError: cannot import name 'has_suggestion' from 'prompt_toolkit.filters' (/home/ayushisoni/.local/lib/python3.10/site-packages/prompt_toolkit/filters/__init__.py). \n",
            "\u001b[1;31mView Jupyter <a href='command:jupyter.viewOutput'>log</a> for further details."
          ]
        }
      ],
      "source": [
        "#settings for data folder from darknet (we delete some files before copying own files)\n",
        "%cd data/\n",
        "!find -maxdepth 1 -type f -exec rm -rf {} \\;\n",
        "%cd ..\n",
        "%rm -rf cfg/\n",
        "%mkdir cfg"
      ]
    },
    {
      "cell_type": "code",
      "execution_count": null,
      "metadata": {
        "id": "dc5NcofSyqhf"
      },
      "outputs": [
        {
          "ename": "",
          "evalue": "",
          "output_type": "error",
          "traceback": [
            "\u001b[1;31mFailed to start the Kernel. \n",
            "\u001b[1;31mImportError: cannot import name 'has_suggestion' from 'prompt_toolkit.filters' (/home/ayushisoni/.local/lib/python3.10/site-packages/prompt_toolkit/filters/__init__.py). \n",
            "\u001b[1;31mView Jupyter <a href='command:jupyter.viewOutput'>log</a> for further details."
          ]
        }
      ],
      "source": [
        "!cd data"
      ]
    },
    {
      "cell_type": "code",
      "execution_count": null,
      "metadata": {
        "colab": {
          "base_uri": "https://localhost:8080/"
        },
        "id": "CF3wtbidY-vd",
        "outputId": "20a5c9db-442b-4b35-e2f2-7269c2b0c5c3"
      },
      "outputs": [
        {
          "ename": "",
          "evalue": "",
          "output_type": "error",
          "traceback": [
            "\u001b[1;31mFailed to start the Kernel. \n",
            "\u001b[1;31mImportError: cannot import name 'has_suggestion' from 'prompt_toolkit.filters' (/home/ayushisoni/.local/lib/python3.10/site-packages/prompt_toolkit/filters/__init__.py). \n",
            "\u001b[1;31mView Jupyter <a href='command:jupyter.viewOutput'>log</a> for further details."
          ]
        }
      ],
      "source": [
        "#unzip dataset in data folder\n",
        "!unzip /content/gdrive/MyDrive/obj.zip -d data/\n"
      ]
    },
    {
      "cell_type": "code",
      "execution_count": null,
      "metadata": {
        "id": "xlD1oTVxZAbF"
      },
      "outputs": [
        {
          "ename": "",
          "evalue": "",
          "output_type": "error",
          "traceback": [
            "\u001b[1;31mFailed to start the Kernel. \n",
            "\u001b[1;31mImportError: cannot import name 'has_suggestion' from 'prompt_toolkit.filters' (/home/ayushisoni/.local/lib/python3.10/site-packages/prompt_toolkit/filters/__init__.py). \n",
            "\u001b[1;31mView Jupyter <a href='command:jupyter.viewOutput'>log</a> for further details."
          ]
        }
      ],
      "source": [
        "#copying config file which include training parameters\n",
        "!cp /content/gdrive/MyDrive/yolov4/yolov4_tiny.cfg ./cfg\n"
      ]
    },
    {
      "cell_type": "code",
      "execution_count": null,
      "metadata": {
        "id": "cNpdh9obZDDz"
      },
      "outputs": [
        {
          "ename": "",
          "evalue": "",
          "output_type": "error",
          "traceback": [
            "\u001b[1;31mFailed to start the Kernel. \n",
            "\u001b[1;31mImportError: cannot import name 'has_suggestion' from 'prompt_toolkit.filters' (/home/ayushisoni/.local/lib/python3.10/site-packages/prompt_toolkit/filters/__init__.py). \n",
            "\u001b[1;31mView Jupyter <a href='command:jupyter.viewOutput'>log</a> for further details."
          ]
        }
      ],
      "source": [
        "#copying names files\n",
        "!cp /content/gdrive/MyDrive/yolov4/obj.names ./data\n",
        "!cp /content/gdrive/MyDrive/yolov4/obj.data  ./data"
      ]
    },
    {
      "cell_type": "code",
      "execution_count": null,
      "metadata": {
        "id": "SOpcVOvzZExt"
      },
      "outputs": [
        {
          "ename": "",
          "evalue": "",
          "output_type": "error",
          "traceback": [
            "\u001b[1;31mFailed to start the Kernel. \n",
            "\u001b[1;31mImportError: cannot import name 'has_suggestion' from 'prompt_toolkit.filters' (/home/ayushisoni/.local/lib/python3.10/site-packages/prompt_toolkit/filters/__init__.py). \n",
            "\u001b[1;31mView Jupyter <a href='command:jupyter.viewOutput'>log</a> for further details."
          ]
        }
      ],
      "source": [
        "#copying code for splitting dataset train and test\n",
        "!cp /content/gdrive/MyDrive/yolov4/process.py ../\n"
      ]
    },
    {
      "cell_type": "code",
      "execution_count": null,
      "metadata": {
        "colab": {
          "base_uri": "https://localhost:8080/"
        },
        "id": "NSbtDroBZIzw",
        "outputId": "dbca60d7-eabc-468b-f79f-bd8a7e01a204"
      },
      "outputs": [
        {
          "ename": "",
          "evalue": "",
          "output_type": "error",
          "traceback": [
            "\u001b[1;31mFailed to start the Kernel. \n",
            "\u001b[1;31mImportError: cannot import name 'has_suggestion' from 'prompt_toolkit.filters' (/home/ayushisoni/.local/lib/python3.10/site-packages/prompt_toolkit/filters/__init__.py). \n",
            "\u001b[1;31mView Jupyter <a href='command:jupyter.viewOutput'>log</a> for further details."
          ]
        }
      ],
      "source": [
        "!ls data/\n"
      ]
    },
    {
      "cell_type": "code",
      "execution_count": null,
      "metadata": {
        "colab": {
          "base_uri": "https://localhost:8080/"
        },
        "id": "pqWDGLK0ZKjG",
        "outputId": "468d792e-3265-480b-a072-3d255fa4eda7"
      },
      "outputs": [
        {
          "ename": "",
          "evalue": "",
          "output_type": "error",
          "traceback": [
            "\u001b[1;31mFailed to start the Kernel. \n",
            "\u001b[1;31mImportError: cannot import name 'has_suggestion' from 'prompt_toolkit.filters' (/home/ayushisoni/.local/lib/python3.10/site-packages/prompt_toolkit/filters/__init__.py). \n",
            "\u001b[1;31mView Jupyter <a href='command:jupyter.viewOutput'>log</a> for further details."
          ]
        }
      ],
      "source": [
        "#getting yolov4-tiny pretrained model\n",
        "!wget https://github.com/AlexeyAB/darknet/releases/download/darknet_yolo_v4_pre/yolov4-tiny.conv.29"
      ]
    },
    {
      "cell_type": "code",
      "execution_count": null,
      "metadata": {
        "colab": {
          "base_uri": "https://localhost:8080/"
        },
        "id": "PSCkAqWkgKLt",
        "outputId": "15ffb3cc-ef51-4d2c-ce0e-203f493b21e5"
      },
      "outputs": [
        {
          "ename": "",
          "evalue": "",
          "output_type": "error",
          "traceback": [
            "\u001b[1;31mFailed to start the Kernel. \n",
            "\u001b[1;31mImportError: cannot import name 'has_suggestion' from 'prompt_toolkit.filters' (/home/ayushisoni/.local/lib/python3.10/site-packages/prompt_toolkit/filters/__init__.py). \n",
            "\u001b[1;31mView Jupyter <a href='command:jupyter.viewOutput'>log</a> for further details."
          ]
        }
      ],
      "source": [
        "#installing opencv before training\n",
        "!sudo apt install libopencv-dev python3-opencv"
      ]
    },
    {
      "cell_type": "code",
      "execution_count": null,
      "metadata": {
        "colab": {
          "base_uri": "https://localhost:8080/"
        },
        "id": "-VtB-p-PgNz3",
        "outputId": "155de376-0fc8-4e90-c454-757046e0195d"
      },
      "outputs": [
        {
          "ename": "",
          "evalue": "",
          "output_type": "error",
          "traceback": [
            "\u001b[1;31mFailed to start the Kernel. \n",
            "\u001b[1;31mImportError: cannot import name 'has_suggestion' from 'prompt_toolkit.filters' (/home/ayushisoni/.local/lib/python3.10/site-packages/prompt_toolkit/filters/__init__.py). \n",
            "\u001b[1;31mView Jupyter <a href='command:jupyter.viewOutput'>log</a> for further details."
          ]
        }
      ],
      "source": [
        "#splitting dataset\n",
        "!python /content/process.py"
      ]
    },
    {
      "cell_type": "code",
      "execution_count": null,
      "metadata": {
        "colab": {
          "base_uri": "https://localhost:8080/"
        },
        "id": "S8CuK9oQjnoH",
        "outputId": "6f2315bf-6c4a-4f96-d784-2d96067f9b3d"
      },
      "outputs": [
        {
          "ename": "",
          "evalue": "",
          "output_type": "error",
          "traceback": [
            "\u001b[1;31mFailed to start the Kernel. \n",
            "\u001b[1;31mImportError: cannot import name 'has_suggestion' from 'prompt_toolkit.filters' (/home/ayushisoni/.local/lib/python3.10/site-packages/prompt_toolkit/filters/__init__.py). \n",
            "\u001b[1;31mView Jupyter <a href='command:jupyter.viewOutput'>log</a> for further details."
          ]
        }
      ],
      "source": [
        "#training \n",
        "!./darknet detector train data/obj.data cfg/yolov4_tiny.cfg yolov4-tiny.conv.29 -dont_show -map\n"
      ]
    },
    {
      "cell_type": "code",
      "execution_count": null,
      "metadata": {
        "id": "mfFQI3izSc07"
      },
      "outputs": [
        {
          "ename": "",
          "evalue": "",
          "output_type": "error",
          "traceback": [
            "\u001b[1;31mFailed to start the Kernel. \n",
            "\u001b[1;31mImportError: cannot import name 'has_suggestion' from 'prompt_toolkit.filters' (/home/ayushisoni/.local/lib/python3.10/site-packages/prompt_toolkit/filters/__init__.py). \n",
            "\u001b[1;31mView Jupyter <a href='command:jupyter.viewOutput'>log</a> for further details."
          ]
        }
      ],
      "source": []
    }
  ],
  "metadata": {
    "accelerator": "GPU",
    "colab": {
      "collapsed_sections": [],
      "name": "yolov4tinytrain.ipynb",
      "provenance": []
    },
    "kernelspec": {
      "display_name": "Python 3",
      "name": "python3"
    },
    "language_info": {
      "name": "python",
      "version": "3.10.undefined"
    }
  },
  "nbformat": 4,
  "nbformat_minor": 0
}
